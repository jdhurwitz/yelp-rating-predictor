{
 "cells": [
  {
   "cell_type": "code",
   "execution_count": 3,
   "metadata": {
    "collapsed": true
   },
   "outputs": [],
   "source": [
    "import pandas as pd\n",
    "import json\n",
    "import gensim\n",
    "import numpy as np\n",
    "import math\n",
    "\n",
    "import matplotlib.pylab as plt\n",
    "\n",
    "from sklearn.model_selection import train_test_split"
   ]
  },
  {
   "cell_type": "code",
   "execution_count": 2,
   "metadata": {},
   "outputs": [
    {
     "name": "stdout",
     "output_type": "stream",
     "text": [
      "CPU times: user 39.3 s, sys: 4.54 s, total: 43.9 s\n",
      "Wall time: 48.8 s\n"
     ]
    }
   ],
   "source": [
    "%time w2vM = gensim.models.KeyedVectors.load_word2vec_format('GoogleNews-vectors-negative300.bin', binary=True)\n",
    "dim = 300"
   ]
  },
  {
   "cell_type": "code",
   "execution_count": 3,
   "metadata": {},
   "outputs": [
    {
     "name": "stdout",
     "output_type": "stream",
     "text": [
      "CPU times: user 6.18 s, sys: 1.4 s, total: 7.58 s\n",
      "Wall time: 8.35 s\n"
     ]
    }
   ],
   "source": [
    "%%time\n",
    "#reviews\n",
    "#need to build unique train and test sets \n",
    "path = 'yelp-recsys-2013/yelp_training_set/yelp_training_set_'\n",
    "\n",
    "try:\n",
    "    df_reviews_train = pd.read_pickle('df_reviews_train')\n",
    "    df_reviews_test = pd.read_pickle('df_reviews_test')\n",
    "        \n",
    "    df_business_train = pd.read_pickle('df_business_train')\n",
    "    df_business_test = pd.read_pickle('df_business_test')\n",
    "except:\n",
    "    df_reviews = pd.read_json(path+'review.json', lines=True)\n",
    "\n",
    "    #filter out empty reviews\n",
    "    mask = df_reviews['text'].str.len() > 0\n",
    "    df_reviews = df_reviews.loc[mask]\n",
    "\n",
    "    df_reviews['text'] = df_reviews['text'].apply(lambda text: text.split())\n",
    "    df_business = pd.read_json(path+'business.json', lines=True)\n",
    "\n",
    "    #find unique businesses\n",
    "    unique_businesses = df_reviews['business_id'].unique()\n",
    "    train_bus, test_bus = train_test_split(unique_businesses, test_size=0.15)\n",
    "\n",
    "    df_reviews_train = df_reviews.loc[df_reviews['business_id'].isin(train_bus)]\n",
    "    df_reviews_test = df_reviews.loc[df_reviews['business_id'].isin(test_bus)]\n",
    "\n",
    "    df_business_train = df_business.loc[df_business['business_id'].isin(train_bus)]\n",
    "    df_business_test = df_business.loc[df_business['business_id'].isin(test_bus)]\n",
    "\n",
    "    #save to files\n",
    "    df_reviews_train.to_pickle('df_reviews_train')\n",
    "    df_reviews_test.to_pickle('df_reviews_test')\n",
    "    \n",
    "    df_business_train.to_pickle('df_business_train')\n",
    "    df_business_test.to_pickle('df_business_test')"
   ]
  },
  {
   "cell_type": "code",
   "execution_count": 4,
   "metadata": {},
   "outputs": [
    {
     "name": "stdout",
     "output_type": "stream",
     "text": [
      "CPU times: user 2.44 ms, sys: 6.16 ms, total: 8.59 ms\n",
      "Wall time: 13.7 ms\n"
     ]
    }
   ],
   "source": [
    "%%time\n",
    "\n",
    "#build labelarrays\n",
    "def buildLabelArrays(df):\n",
    "    labels = []\n",
    "    for index, row in df.iterrows():\n",
    "        biz_id = row['business_id']\n",
    "        biz_row = df_business.loc[df_business['business_id'] == biz_id]\n",
    "        label = biz_row['stars']\n",
    "        labels = np.append(labels, label)\n",
    "        \n",
    "    return labels\n",
    "\n",
    "try: \n",
    "    train_labels = np.load('train_labels.npy')\n",
    "    test_labels = np.load('test_labels.npy')\n",
    "except: #clean this up\n",
    "    train_labels = buildLabelArrays(df_reviews_train)        \n",
    "    test_labels = buildLabelArrays(df_reviews_test)\n",
    "    np.save('train_labels.npy', train_labels)\n",
    "    np.save('test_labels.npy', test_labels)"
   ]
  },
  {
   "cell_type": "code",
   "execution_count": 7,
   "metadata": {},
   "outputs": [
    {
     "name": "stdout",
     "output_type": "stream",
     "text": [
      "(195739,)\n",
      "(34162,)\n"
     ]
    }
   ],
   "source": [
    "print(train_labels.shape)\n",
    "print(test_labels.shape)"
   ]
  },
  {
   "cell_type": "markdown",
   "metadata": {},
   "source": [
    "# Visualize Class Balance \n"
   ]
  },
  {
   "cell_type": "code",
   "execution_count": 5,
   "metadata": {},
   "outputs": [
    {
     "name": "stdout",
     "output_type": "stream",
     "text": [
      "{1.0: 322, 1.5: 613, 2.0: 2450, 2.5: 7015, 3.0: 20496, 3.5: 52311, 4.0: 77157, 4.5: 29572, 5.0: 5803}\n",
      "{1.0: 101, 1.5: 113, 2.0: 307, 2.5: 1293, 3.0: 3365, 3.5: 9191, 4.0: 13451, 4.5: 5456, 5.0: 885}\n"
     ]
    },
    {
     "data": {
      "image/png": "[encoded data removed]",
      "text/plain": [
       "<matplotlib.figure.Figure at 0x1b2fe64278>"
      ]
     },
     "metadata": {},
     "output_type": "display_data"
    },
    {
     "data": {
      "image/png": "[encoded data removed]",
      "text/plain": [
       "<matplotlib.figure.Figure at 0x1b9a2bedd8>"
      ]
     },
     "metadata": {},
     "output_type": "display_data"
    }
   ],
   "source": [
    "\n",
    "def get_count_dict(arr):\n",
    "    unique, counts = np.unique(arr, return_counts=True)\n",
    "    count_dict = dict(zip(unique, counts))\n",
    "    return count_dict\n",
    "\n",
    "cd_tr = get_count_dict(train_labels)\n",
    "cd_test = get_count_dict(test_labels)\n",
    "\n",
    "print(cd_tr)\n",
    "print(cd_test)\n",
    "\n",
    "listtr = sorted(cd_tr.items())\n",
    "x, y = zip(*listtr)\n",
    "plt.plot(x,y)\n",
    "plt.show()\n",
    "\n",
    "listtest = sorted(cd_test.items())\n",
    "xt, yt = zip(*listtest)\n",
    "plt.plot(xt,yt)\n",
    "plt.show()"
   ]
  },
  {
   "cell_type": "markdown",
   "metadata": {},
   "source": [
    "# Class Balance for Whole Yelp Dataset\n"
   ]
  },
  {
   "cell_type": "code",
   "execution_count": 22,
   "metadata": {
    "collapsed": true
   },
   "outputs": [],
   "source": [
    "def adjust_labels(path, output_name, adjustment):\n",
    "    full_data = pd.read_csv(path, sep='\\t', header=None)\n",
    "    full_data.columns = ['label', 'text']\n",
    "    grouped = full_data['label'].value_counts()\n",
    "    print(grouped)\n",
    "\n",
    "    full_data['label'] = full_data['label'] + adjustment\n",
    "    \n",
    "    grouped = full_data['label'].value_counts()\n",
    "    print(grouped)\n",
    "    full_data.to_csv(output_name, header=None, index=False, sep='\\t')"
   ]
  },
  {
   "cell_type": "code",
   "execution_count": 23,
   "metadata": {},
   "outputs": [
    {
     "name": "stdout",
     "output_type": "stream",
     "text": [
      "5    120000\n",
      "4    120000\n",
      "3    120000\n",
      "2    120000\n",
      "1    120000\n",
      "Name: label, dtype: int64\n",
      "4    120000\n",
      "3    120000\n",
      "2    120000\n",
      "1    120000\n",
      "0    120000\n",
      "Name: label, dtype: int64\n",
      "5    10000\n",
      "4    10000\n",
      "3    10000\n",
      "2    10000\n",
      "1    10000\n",
      "Name: label, dtype: int64\n",
      "4    10000\n",
      "3    10000\n",
      "2    10000\n",
      "1    10000\n",
      "0    10000\n",
      "Name: label, dtype: int64\n",
      "5    10000\n",
      "4    10000\n",
      "3    10000\n",
      "2    10000\n",
      "1    10000\n",
      "Name: label, dtype: int64\n",
      "4    10000\n",
      "3    10000\n",
      "2    10000\n",
      "1    10000\n",
      "0    10000\n",
      "Name: label, dtype: int64\n"
     ]
    }
   ],
   "source": [
    "adjust_labels('data/yelp/train.txt', 'train.txt', -1)\n",
    "adjust_labels('data/yelp/test.txt', 'test.txt', -1)\n",
    "adjust_labels('data/yelp/dev.txt', 'dev.txt', -1)"
   ]
  },
  {
   "cell_type": "code",
   "execution_count": 6,
   "metadata": {},
   "outputs": [
    {
     "name": "stdout",
     "output_type": "stream",
     "text": [
      "CPU times: user 1min 41s, sys: 3.07 s, total: 1min 44s\n",
      "Wall time: 1min 48s\n"
     ]
    }
   ],
   "source": [
    "%%time\n",
    "N_train = train_labels.size\n",
    "N_test = test_labels.size\n",
    "np.seterr(all='print')\n",
    "    \n",
    "vecs_train = np.array([np.array([w2vM[t] if t in w2vM\n",
    "                                else np.zeros((dim,))\n",
    "                            for t in rev]).mean(axis=0)\n",
    "                 for rev in df_reviews_train['text']])\n",
    "\n",
    "\n",
    "vecs_test = np.array([np.array([w2vM[t] if t in w2vM\n",
    "                                else np.zeros((dim,))\n",
    "                            for t in rev]).mean(axis=0)\n",
    "                 for rev in df_reviews_test['text'][:N_test]])\n",
    "\n",
    "np.save('vecs_train', vecs_train)\n",
    "np.save('vecs_test', vecs_test)"
   ]
  },
  {
   "cell_type": "code",
   "execution_count": 7,
   "metadata": {},
   "outputs": [
    {
     "name": "stdout",
     "output_type": "stream",
     "text": [
      "(195739, 300)\n",
      "(34162, 300)\n"
     ]
    }
   ],
   "source": [
    "print(vecs_train.shape)\n",
    "print(vecs_test.shape)\n",
    "for vec in vecs_train:\n",
    "    if np.isnan(vec).any():\n",
    "        print('yes')\n",
    "        \n",
    "for vec in vecs_test:\n",
    "    if np.isnan(vec).any():\n",
    "        print('yes')"
   ]
  },
  {
   "cell_type": "code",
   "execution_count": 8,
   "metadata": {
    "collapsed": true
   },
   "outputs": [],
   "source": [
    "def getAccuracy(model, X_train, X_test, y_train, y_test):\n",
    "    y_pred_pre_train = model.predict(X_train)\n",
    "    y_pred_train = np.array(y_pred_pre_train).astype(np.int)\n",
    "    \n",
    "    y_pred_pre_test = model.predict(X_test)\n",
    "    y_pred_test = np.array(y_pred_pre_test).astype(np.int)\n",
    "    print(y_pred_test)\n",
    "    print(y_test)\n",
    "    \n",
    "\n",
    "    accuracy_train = float(np.sum(y_pred_train == y_train)) / y_train.size\n",
    "    accuracy_test = float(np.sum(y_pred_test == y_test)) / y_test.size\n",
    "    \n",
    "    return accuracy_train, accuracy_test"
   ]
  },
  {
   "cell_type": "code",
   "execution_count": 15,
   "metadata": {},
   "outputs": [
    {
     "name": "stdout",
     "output_type": "stream",
     "text": [
      "0.394183070313\n"
     ]
    }
   ],
   "source": [
    "print((train_labels == 4).sum()/len(train_labels))\n",
    "\n"
   ]
  },
  {
   "cell_type": "code",
   "execution_count": 45,
   "metadata": {
    "scrolled": true
   },
   "outputs": [
    {
     "data": {
      "text/plain": [
       "RandomForestClassifier(bootstrap=True, class_weight=None, criterion='gini',\n",
       "            max_depth=5, max_features='auto', max_leaf_nodes=None,\n",
       "            min_impurity_decrease=0.0, min_impurity_split=None,\n",
       "            min_samples_leaf=1, min_samples_split=2,\n",
       "            min_weight_fraction_leaf=0.0, n_estimators=10, n_jobs=1,\n",
       "            oob_score=False, random_state=None, verbose=0,\n",
       "            warm_start=False)"
      ]
     },
     "execution_count": 45,
     "metadata": {},
     "output_type": "execute_result"
    }
   ],
   "source": [
    "from sklearn import ensemble\n",
    "from sklearn.preprocessing import LabelEncoder\n",
    "\n",
    "le = LabelEncoder()\n",
    "le.fit(train_labels)\n",
    "train_labels_trans = le.transform(train_labels)\n",
    "test_labels_trans = le.transform(test_labels)\n",
    "\n",
    "rf = ensemble.RandomForestClassifier()\n",
    "rf.max_depth = 5\n",
    "\n",
    "rf.fit(vecs_train, train_labels_trans)"
   ]
  },
  {
   "cell_type": "code",
   "execution_count": 48,
   "metadata": {},
   "outputs": [
    {
     "name": "stdout",
     "output_type": "stream",
     "text": [
      "[6 6 6 ..., 6 6 6]\n",
      "[7 5 4 ..., 4 6 5]\n"
     ]
    },
    {
     "data": {
      "text/plain": [
       "(0.3942750295035736, 0.3938879456706282)"
      ]
     },
     "execution_count": 48,
     "metadata": {},
     "output_type": "execute_result"
    }
   ],
   "source": [
    "getAccuracy(rf, vecs_train, vecs_test, train_labels_trans, test_labels_trans)\n"
   ]
  },
  {
   "cell_type": "code",
   "execution_count": 49,
   "metadata": {},
   "outputs": [
    {
     "data": {
      "text/plain": [
       "MLPClassifier(activation='relu', alpha=0.0001, batch_size='auto', beta_1=0.9,\n",
       "       beta_2=0.999, early_stopping=False, epsilon=1e-08,\n",
       "       hidden_layer_sizes=(100,), learning_rate='constant',\n",
       "       learning_rate_init=0.001, max_iter=200, momentum=0.9,\n",
       "       nesterovs_momentum=True, power_t=0.5, random_state=None,\n",
       "       shuffle=True, solver='adam', tol=0.0001, validation_fraction=0.1,\n",
       "       verbose=False, warm_start=False)"
      ]
     },
     "execution_count": 49,
     "metadata": {},
     "output_type": "execute_result"
    }
   ],
   "source": [
    "from sklearn.neural_network import MLPClassifier\n",
    "\n",
    "mlp = MLPClassifier()\n",
    "mlp.fit(vecs_train, train_labels_trans)"
   ]
  },
  {
   "cell_type": "code",
   "execution_count": 50,
   "metadata": {},
   "outputs": [
    {
     "name": "stdout",
     "output_type": "stream",
     "text": [
      "[8 6 5 ..., 5 7 6]\n",
      "[7 5 4 ..., 4 6 5]\n"
     ]
    },
    {
     "data": {
      "text/plain": [
       "(0.4895702951379132, 0.4035478016509572)"
      ]
     },
     "execution_count": 50,
     "metadata": {},
     "output_type": "execute_result"
    }
   ],
   "source": [
    "getAccuracy(mlp, vecs_train, vecs_test, train_labels_trans, test_labels_trans)"
   ]
  },
  {
   "cell_type": "code",
   "execution_count": null,
   "metadata": {
    "collapsed": true
   },
   "outputs": [],
   "source": []
  }
 ],
 "metadata": {
  "kernelspec": {
   "display_name": "Python 3",
   "language": "python",
   "name": "python3"
  },
  "language_info": {
   "codemirror_mode": {
    "name": "ipython",
    "version": 3
   },
   "file_extension": ".py",
   "mimetype": "text/x-python",
   "name": "python",
   "nbconvert_exporter": "python",
   "pygments_lexer": "ipython3",
   "version": "3.6.3"
  }
 },
 "nbformat": 4,
 "nbformat_minor": 2
}

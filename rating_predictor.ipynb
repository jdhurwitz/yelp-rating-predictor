{
 "cells": [
  {
   "cell_type": "code",
   "execution_count": 1,
   "metadata": {
    "collapsed": true
   },
   "outputs": [],
   "source": [
    "import pandas as pd\n",
    "import json\n",
    "import gensim\n",
    "import numpy as np\n",
    "import math\n",
    "\n",
    "import matplotlib.pylab as plt\n",
    "\n",
    "from sklearn.model_selection import train_test_split\n",
    "from sklearn.metrics import f1_score, mean_squared_error"
   ]
  },
  {
   "cell_type": "code",
   "execution_count": 25,
   "metadata": {},
   "outputs": [
    {
     "name": "stdout",
     "output_type": "stream",
     "text": [
      "CPU times: user 44.1 s, sys: 5.16 s, total: 49.3 s\n",
      "Wall time: 57.6 s\n"
     ]
    }
   ],
   "source": [
    "%time w2vM = gensim.models.KeyedVectors.load_word2vec_format('GoogleNews-vectors-negative300.bin', binary=True)\n",
    "dim = 300"
   ]
  },
  {
   "cell_type": "code",
   "execution_count": 3,
   "metadata": {},
   "outputs": [
    {
     "name": "stdout",
     "output_type": "stream",
     "text": [
      "CPU times: user 6.15 s, sys: 4.35 s, total: 10.5 s\n",
      "Wall time: 14.3 s\n"
     ]
    }
   ],
   "source": [
    "%%time\n",
    "#reviews\n",
    "#need to build unique train and test sets \n",
    "path = 'yelp-recsys-2013/yelp_training_set/yelp_training_set_'\n",
    "\n",
    "try:\n",
    "    df_reviews_train = pd.read_pickle('df_reviews_train')\n",
    "    df_reviews_test = pd.read_pickle('df_reviews_test')\n",
    "        \n",
    "    df_business_train = pd.read_pickle('df_business_train')\n",
    "    df_business_test = pd.read_pickle('df_business_test')\n",
    "except:\n",
    "    df_reviews = pd.read_json(path+'review.json', lines=True)\n",
    "\n",
    "    #filter out empty reviews\n",
    "    mask = df_reviews['text'].str.len() > 0\n",
    "    df_reviews = df_reviews.loc[mask]\n",
    "\n",
    "    df_reviews['text'] = df_reviews['text'].apply(lambda text: text.split())\n",
    "    df_business = pd.read_json(path+'business.json', lines=True)\n",
    "\n",
    "    #find unique businesses\n",
    "    unique_businesses = df_reviews['business_id'].unique()\n",
    "    train_bus, test_bus = train_test_split(unique_businesses, test_size=0.15)\n",
    "\n",
    "    df_reviews_train = df_reviews.loc[df_reviews['business_id'].isin(train_bus)]\n",
    "    df_reviews_test = df_reviews.loc[df_reviews['business_id'].isin(test_bus)]\n",
    "\n",
    "    df_business_train = df_business.loc[df_business['business_id'].isin(train_bus)]\n",
    "    df_business_test = df_business.loc[df_business['business_id'].isin(test_bus)]\n",
    "\n",
    "    #save to files\n",
    "    df_reviews_train.to_pickle('df_reviews_train')\n",
    "    df_reviews_test.to_pickle('df_reviews_test')\n",
    "    \n",
    "    df_business_train.to_pickle('df_business_train')\n",
    "    df_business_test.to_pickle('df_business_test')"
   ]
  },
  {
   "cell_type": "code",
   "execution_count": 22,
   "metadata": {},
   "outputs": [
    {
     "name": "stdout",
     "output_type": "stream",
     "text": [
      "(600000,) (50000,)\n"
     ]
    }
   ],
   "source": [
    "#Used for balanced dataset\n",
    "path = 'data/yelp/gm_data/yelp/'\n",
    "try:\n",
    "    df_reviews_train = pd.read_pickle('df_reviews_train_balanced')\n",
    "    df_reviews_test = pd.read_pickle('df_reviews_test_balanced')\n",
    "        \n",
    "except:\n",
    "    with open(path+'train.txt', \"r\") as train_file:\n",
    "        train_lines = train_file.read().split(\"\\n\")\n",
    "    train_lines = train_lines[:-1]   \n",
    "        \n",
    "    train_rows = [line.split('\\t') for line in train_lines if line]\n",
    "    train_labels = []\n",
    "    train_text = []\n",
    "    for row in train_rows:\n",
    "        train_labels.append(int(row[0]))\n",
    "        train_text.append(row[1])\n",
    "    \n",
    "    with open(path+'test.txt', \"r\") as test_file:\n",
    "        test_lines = test_file.read().split(\"\\n\")\n",
    "    test_lines = test_lines[:-1]    \n",
    "    \n",
    "    test_rows = [line.split('\\t') for line in test_lines if line]\n",
    "\n",
    "    test_labels = []\n",
    "    test_text = []\n",
    "    for row in test_rows:\n",
    "        test_labels.append(int(row[0]))\n",
    "        test_text.append(row[1])\n",
    "        \n",
    "    \n",
    "    df_reviews_train = pd.DataFrame({'label':train_labels, 'text': train_text})\n",
    "    df_reviews_test = pd.DataFrame({'label':test_labels, 'text': test_text})\n",
    "\n",
    "\n",
    "    #save to files\n",
    "    df_reviews_train.to_pickle('df_reviews_train_balanced')\n",
    "    df_reviews_test.to_pickle('df_reviews_test_balanced')\n",
    "    \n",
    "train_labels = np.array(df_reviews_train[['label']].values).flatten()\n",
    "test_labels = np.array(df_reviews_test[['label']].values).flatten()\n",
    "print(train_labels.shape, test_labels.shape)"
   ]
  },
  {
   "cell_type": "code",
   "execution_count": 4,
   "metadata": {},
   "outputs": [
    {
     "name": "stdout",
     "output_type": "stream",
     "text": [
      "CPU times: user 1.96 ms, sys: 6.03 ms, total: 7.99 ms\n",
      "Wall time: 16.6 ms\n"
     ]
    }
   ],
   "source": [
    "%%time\n",
    "\n",
    "#build labelarrays\n",
    "def buildLabelArrays(df):\n",
    "    labels = []\n",
    "    for index, row in df.iterrows():\n",
    "        biz_id = row['business_id']\n",
    "        biz_row = df_business.loc[df_business['business_id'] == biz_id]\n",
    "        label = biz_row['stars']\n",
    "        labels = np.append(labels, label)\n",
    "        \n",
    "    return labels\n",
    "\n",
    "try: \n",
    "    train_labels = np.load('train_labels.npy')\n",
    "    test_labels = np.load('test_labels.npy')\n",
    "except: #clean this up\n",
    "    train_labels = buildLabelArrays(df_reviews_train)        \n",
    "    test_labels = buildLabelArrays(df_reviews_test)\n",
    "    np.save('train_labels.npy', train_labels)\n",
    "    np.save('test_labels.npy', test_labels)"
   ]
  },
  {
   "cell_type": "code",
   "execution_count": 5,
   "metadata": {},
   "outputs": [
    {
     "name": "stdout",
     "output_type": "stream",
     "text": [
      "(194844,)\n",
      "(35057,)\n"
     ]
    }
   ],
   "source": [
    "print(train_labels.shape)\n",
    "print(test_labels.shape)"
   ]
  },
  {
   "cell_type": "markdown",
   "metadata": {},
   "source": [
    "# Visualize Class Balance \n"
   ]
  },
  {
   "cell_type": "code",
   "execution_count": 23,
   "metadata": {},
   "outputs": [
    {
     "name": "stdout",
     "output_type": "stream",
     "text": [
      "{0: 120000, 1: 120000, 2: 120000, 3: 120000, 4: 120000}\n",
      "{0: 10000, 1: 10000, 2: 10000, 3: 10000, 4: 10000}\n",
      "{0: 130000, 1: 130000, 2: 130000, 3: 130000, 4: 130000}\n"
     ]
    },
    {
     "data": {
      "image/png": "[encoded data removed]",
      "text/plain": [
       "<matplotlib.figure.Figure at 0x1c45120da0>"
      ]
     },
     "metadata": {},
     "output_type": "display_data"
    },
    {
     "data": {
      "image/png": "[encoded data removed]",
      "text/plain": [
       "<matplotlib.figure.Figure at 0x1a1f303710>"
      ]
     },
     "metadata": {},
     "output_type": "display_data"
    },
    {
     "data": {
      "image/png": "[encoded data removed]",
      "text/plain": [
       "<matplotlib.figure.Figure at 0x1a20264828>"
      ]
     },
     "metadata": {},
     "output_type": "display_data"
    }
   ],
   "source": [
    "\n",
    "def get_count_dict(arr):\n",
    "    unique, counts = np.unique(arr, return_counts=True)\n",
    "    count_dict = dict(zip(unique, counts))\n",
    "    return count_dict\n",
    "\n",
    "cd_tr = get_count_dict(train_labels)\n",
    "cd_test = get_count_dict(test_labels)\n",
    "total = get_count_dict(np.append(train_labels, test_labels))\n",
    "\n",
    "print(cd_tr)\n",
    "print(cd_test)\n",
    "print(total)\n",
    "\n",
    "listtr = sorted(cd_tr.items())\n",
    "x, y = zip(*listtr)\n",
    "plt.plot(x,y)\n",
    "plt.show()\n",
    "\n",
    "listtest = sorted(cd_test.items())\n",
    "xt, yt = zip(*listtest)\n",
    "plt.plot(xt,yt)\n",
    "plt.show()\n",
    "\n",
    "adjusted_counts = {1: 17567, 2:20615, 3: 35436, 4: 79708, 5:76572}\n",
    "listtotal = sorted(adjusted_counts.items())\n",
    "xtot, ytot = zip(*listtotal)\n",
    "plt.bar(xtot, ytot)\n",
    "plt.xticks([1,2,3,4,5])\n",
    "plt.ylabel(\"Number of Examples\")\n",
    "plt.xlabel(\"Class\")\n",
    "plt.show()"
   ]
  },
  {
   "cell_type": "markdown",
   "metadata": {},
   "source": [
    "# Class Balance for Whole Yelp Dataset\n"
   ]
  },
  {
   "cell_type": "code",
   "execution_count": 7,
   "metadata": {
    "collapsed": true
   },
   "outputs": [],
   "source": [
    "def adjust_labels(path, output_name, adjustment):\n",
    "    full_data = pd.read_csv(path, sep='\\t', header=None)\n",
    "    full_data.columns = ['label', 'text']\n",
    "    grouped = full_data['label'].value_counts()\n",
    "    print(grouped)\n",
    "\n",
    "    full_data['label'] = full_data['label'] + adjustment\n",
    "    \n",
    "    grouped = full_data['label'].value_counts()\n",
    "    print(grouped)\n",
    "    full_data.to_csv(output_name, header=None, index=False, sep='\\t')"
   ]
  },
  {
   "cell_type": "code",
   "execution_count": 8,
   "metadata": {},
   "outputs": [
    {
     "name": "stdout",
     "output_type": "stream",
     "text": [
      "3    57901\n",
      "4    54827\n",
      "2    25670\n",
      "1    15127\n",
      "0    12563\n",
      "Name: label, dtype: int64\n",
      " 2    57901\n",
      " 3    54827\n",
      " 1    25670\n",
      " 0    15127\n",
      "-1    12563\n",
      "Name: label, dtype: int64\n",
      "3    11909\n",
      "4    11553\n",
      "2     5151\n",
      "1     3167\n",
      "0     2706\n",
      "Name: label, dtype: int64\n",
      " 2    11909\n",
      " 3    11553\n",
      " 1     5151\n",
      " 0     3167\n",
      "-1     2706\n",
      "Name: label, dtype: int64\n",
      "3    10062\n",
      "4     9808\n",
      "2     4535\n",
      "1     2661\n",
      "0     2247\n",
      "Name: label, dtype: int64\n",
      " 2    10062\n",
      " 3     9808\n",
      " 1     4535\n",
      " 0     2661\n",
      "-1     2247\n",
      "Name: label, dtype: int64\n"
     ]
    }
   ],
   "source": [
    "adjust_labels('data/yelp/train.txt', 'train.txt', -1)\n",
    "adjust_labels('data/yelp/test.txt', 'test.txt', -1)\n",
    "adjust_labels('data/yelp/dev.txt', 'dev.txt', -1)"
   ]
  },
  {
   "cell_type": "code",
   "execution_count": 26,
   "metadata": {},
   "outputs": [
    {
     "name": "stdout",
     "output_type": "stream",
     "text": [
      "CPU times: user 28min 42s, sys: 1min 23s, total: 30min 5s\n",
      "Wall time: 38min 4s\n"
     ]
    }
   ],
   "source": [
    "%%time\n",
    "N_train = train_labels.size\n",
    "N_test = test_labels.size\n",
    "np.seterr(all='print')\n",
    "    \n",
    "vecs_train = np.array([np.array([w2vM[t] if t in w2vM\n",
    "                                else np.zeros((dim,))\n",
    "                            for t in rev]).mean(axis=0)\n",
    "                 for rev in df_reviews_train['text']])\n",
    "\n",
    "\n",
    "vecs_test = np.array([np.array([w2vM[t] if t in w2vM\n",
    "                                else np.zeros((dim,))\n",
    "                            for t in rev]).mean(axis=0)\n",
    "                 for rev in df_reviews_test['text'][:N_test]])\n",
    "\n",
    "np.save('vecs_train', vecs_train)\n",
    "np.save('vecs_test', vecs_test)"
   ]
  },
  {
   "cell_type": "code",
   "execution_count": 8,
   "metadata": {},
   "outputs": [
    {
     "name": "stdout",
     "output_type": "stream",
     "text": [
      "(194844, 300)\n",
      "(35057, 300)\n"
     ]
    }
   ],
   "source": [
    "print(vecs_train.shape)\n",
    "print(vecs_test.shape)\n",
    "for vec in vecs_train:\n",
    "    if np.isnan(vec).any():\n",
    "        print('yes')\n",
    "        \n",
    "for vec in vecs_test:\n",
    "    if np.isnan(vec).any():\n",
    "        print('yes')"
   ]
  },
  {
   "cell_type": "code",
   "execution_count": 27,
   "metadata": {
    "collapsed": true
   },
   "outputs": [],
   "source": [
    "def getMetrics(model, X_train, X_test, y_train, y_test):\n",
    "    y_pred_pre_train = model.predict(X_train)\n",
    "    y_pred_train = np.array(y_pred_pre_train).astype(np.int)\n",
    "    \n",
    "    y_pred_pre_test = model.predict(X_test)\n",
    "    y_pred_test = np.array(y_pred_pre_test).astype(np.int)\n",
    "    print(y_pred_test)\n",
    "    print(y_test)\n",
    "    \n",
    "\n",
    "    accuracy_train = float(np.sum(y_pred_train == y_train)) / y_train.size\n",
    "    accuracy_test = float(np.sum(y_pred_test == y_test)) / y_test.size\n",
    "    \n",
    "    print(\"Train accuracy: \", accuracy_train)\n",
    "    print(\"Test accuracy: \", accuracy_test)\n",
    "    print(\"F1 score: \", f1_score(y_test, y_pred_test, average='weighted'))\n",
    "    print(\"MSE: \", mean_squared_error(y_test, y_pred_test))\n"
   ]
  },
  {
   "cell_type": "code",
   "execution_count": 10,
   "metadata": {},
   "outputs": [
    {
     "name": "stdout",
     "output_type": "stream",
     "text": [
      "0.396778961631\n"
     ]
    }
   ],
   "source": [
    "print((train_labels == 4).sum()/len(train_labels))"
   ]
  },
  {
   "cell_type": "code",
   "execution_count": 28,
   "metadata": {
    "scrolled": true
   },
   "outputs": [
    {
     "data": {
      "text/plain": [
       "RandomForestClassifier(bootstrap=True, class_weight=None, criterion='gini',\n",
       "            max_depth=5, max_features='auto', max_leaf_nodes=None,\n",
       "            min_impurity_decrease=0.0, min_impurity_split=None,\n",
       "            min_samples_leaf=1, min_samples_split=2,\n",
       "            min_weight_fraction_leaf=0.0, n_estimators=10, n_jobs=1,\n",
       "            oob_score=False, random_state=None, verbose=0,\n",
       "            warm_start=False)"
      ]
     },
     "execution_count": 28,
     "metadata": {},
     "output_type": "execute_result"
    }
   ],
   "source": [
    "from sklearn import ensemble\n",
    "from sklearn.preprocessing import LabelEncoder\n",
    "\n",
    "le = LabelEncoder()\n",
    "le.fit(train_labels)\n",
    "train_labels_trans = le.transform(train_labels)\n",
    "test_labels_trans = le.transform(test_labels)\n",
    "\n",
    "rf = ensemble.RandomForestClassifier()\n",
    "rf.max_depth = 5\n",
    "\n",
    "rf.fit(vecs_train, train_labels_trans)"
   ]
  },
  {
   "cell_type": "code",
   "execution_count": 29,
   "metadata": {},
   "outputs": [
    {
     "name": "stdout",
     "output_type": "stream",
     "text": [
      "[1 0 2 ..., 2 2 0]\n",
      "[0 0 0 ..., 3 1 0]\n",
      "Train accuracy:  0.30663833333333335\n",
      "Test accuracy:  0.30942\n",
      "F1 score:  0.301437035337\n",
      "MSE:  3.12372\n"
     ]
    }
   ],
   "source": [
    "getMetrics(rf, vecs_train, vecs_test, train_labels_trans, test_labels_trans)\n"
   ]
  },
  {
   "cell_type": "code",
   "execution_count": 30,
   "metadata": {},
   "outputs": [
    {
     "data": {
      "text/plain": [
       "MLPClassifier(activation='relu', alpha=0.0001, batch_size='auto', beta_1=0.9,\n",
       "       beta_2=0.999, early_stopping=False, epsilon=1e-08,\n",
       "       hidden_layer_sizes=(100,), learning_rate='constant',\n",
       "       learning_rate_init=0.001, max_iter=200, momentum=0.9,\n",
       "       nesterovs_momentum=True, power_t=0.5, random_state=None,\n",
       "       shuffle=True, solver='adam', tol=0.0001, validation_fraction=0.1,\n",
       "       verbose=False, warm_start=False)"
      ]
     },
     "execution_count": 30,
     "metadata": {},
     "output_type": "execute_result"
    }
   ],
   "source": [
    "from sklearn.neural_network import MLPClassifier\n",
    "\n",
    "mlp = MLPClassifier()\n",
    "mlp.fit(vecs_train, train_labels_trans)"
   ]
  },
  {
   "cell_type": "code",
   "execution_count": 31,
   "metadata": {},
   "outputs": [
    {
     "name": "stdout",
     "output_type": "stream",
     "text": [
      "[0 0 1 ..., 1 1 1]\n",
      "[0 0 0 ..., 3 1 0]\n",
      "Train accuracy:  0.354035\n",
      "Test accuracy:  0.3517\n",
      "F1 score:  0.34023295828\n",
      "MSE:  2.66072\n"
     ]
    }
   ],
   "source": [
    "getMetrics(mlp, vecs_train, vecs_test, train_labels_trans, test_labels_trans)"
   ]
  },
  {
   "cell_type": "code",
   "execution_count": null,
   "metadata": {
    "collapsed": true
   },
   "outputs": [],
   "source": []
  }
 ],
 "metadata": {
  "kernelspec": {
   "display_name": "Python 3",
   "language": "python",
   "name": "python3"
  },
  "language_info": {
   "codemirror_mode": {
    "name": "ipython",
    "version": 3
   },
   "file_extension": ".py",
   "mimetype": "text/x-python",
   "name": "python",
   "nbconvert_exporter": "python",
   "pygments_lexer": "ipython3",
   "version": "3.6.3"
  }
 },
 "nbformat": 4,
 "nbformat_minor": 2
}
